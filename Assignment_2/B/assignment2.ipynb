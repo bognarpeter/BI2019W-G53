{
 "cells": [
  {
   "cell_type": "markdown",
   "metadata": {},
   "source": [
    "# Business Intelligence - Group 53 - Assignment 2"
   ]
  },
  {
   "cell_type": "markdown",
   "metadata": {},
   "source": [
    "## Packages "
   ]
  },
  {
   "cell_type": "code",
   "execution_count": 15,
   "metadata": {},
   "outputs": [],
   "source": [
    "import numpy as np\n",
    "import pandas as pd\n",
    "import matplotlib.pyplot as plt\n",
    "import matplotlib.pylab as plt\n",
    "import scipy.sparse as sparse\n",
    "from pathlib import Path\n",
    "import glob\n",
    "from scipy.stats import ks_2samp\n",
    "import seaborn as sns\n",
    "\n",
    "# ..."
   ]
  },
  {
   "cell_type": "markdown",
   "metadata": {},
   "source": [
    "## Business understanding"
   ]
  },
  {
   "cell_type": "markdown",
   "metadata": {},
   "source": [
    "In order to understand the data one should first of all understand the business. Below one can find a glossary of terms used in MMA (UFC) and their explanations.\n",
    "* **Knockdown**:  A fight-ending strike. If a fighter loses consciousness (\"goes limp\") as a result of legal strikes it is declared a KO.\n",
    "* **(Guard) pass**: A guard pass is simply a way for the fighter on top to get past the legs of the fighter on the bottom in order to reach a dominant position on the ground\n",
    "* **Reversal**: Transition from a neutral or inferior position to a dominant position\n",
    "* **Submission**: A submission is a combat sports term for yielding to the opponent, and hence resulting in an immediate defeat. The submission - then also referred to as a \"tap out\" or \"tapping out\" - is often performed by visibly tapping the floor or the opponent with the hand or in some cases with the foot, or by saying the word 'tap' to signal the opponent and/or the referee of the submission\n",
    "* **Takedown**: A takedown is a technique that involves off-balancing an opponent and bringing him or her to the ground with the attacker landing on top.\n",
    "* **Strikes**: There are two different groupings for strikes. \n",
    "  * based on body sections: **HEAD**, **BODY**, **LEG** \n",
    "  * based on positions/ranges\n",
    "    * **Clinch**: A position in which two standing individuals have grabbed ahold of one another. Strikes given and taken in a clinch position.\n",
    "    * **Ground**: Strikes given and taken when the fighters are on the ground\n",
    "    * **Distance**: Distance strikes are all strikes that are not clinche-strikes or ground strikes. This is the most common type of striking.\n",
    "* **Stance**: Which foot is placed closer to the opponent. E.g. left in orthodox stance and right in southpaw\n"
   ]
  },
  {
   "cell_type": "markdown",
   "metadata": {},
   "source": [
    "## Data understanding"
   ]
  },
  {
   "cell_type": "markdown",
   "metadata": {},
   "source": [
    "Analyze the characteristics of the dataset (size, attribute types and semantics as discussed in class, value ranges, sparsity, min/max values, outliers, missing values, ...), and describe this in the report"
   ]
  },
  {
   "cell_type": "markdown",
   "metadata": {},
   "source": [
    "### Data description"
   ]
  },
  {
   "cell_type": "markdown",
   "metadata": {},
   "source": [
    "Following clustering of attributes is based on logical grouping and not on the attribute type. Many attributes are prefixed with either 'r' or 'b' which stands for red or blue fighter. To not copy every attribute description for each prefix those attributes in the following tables are prefixed with b/r_.\n",
    "\n",
    "#### Bout stats\n",
    "Attribute | Description | Attribute type \n",
    "--- | --- | ---\n",
    "Referee | Name of Referee | Nominal\n",
    "location | Fight location | Nominal\n",
    "weight_class | Weight class of this bout and fighters | Ordinal\n",
    "Date | Date of fight | Ordinal\n",
    "title_bout | Stating whether the bout was a title bout | Binary\n",
    "Winner | Winner of the fight | Nominal\n",
    "no_of_rounds | Number of rounds the bout had. | Ratio\n",
    "\n",
    "#### Basic fighter stats\n",
    "Attribute | Description | Attribute type \n",
    "--- | --- | ---\n",
    "b/r_fighter | Name of respective fighter | Nominal\n",
    "b/r_Stance | Fighting stance | Nominal\n",
    "b/r_age | Age of fighter | Ratio\n",
    "b/r_Height_cms | The fighter's height | Ratio\n",
    "b/r_Reach_cms | The fighter's reach | Ratio\n",
    "b/r_Weight_lbs | The fighter's weight in lbs | Ratio\n",
    "\n",
    "#### Fighter bout stats\n",
    "Attribute | Description | Attribute type \n",
    "--- | --- | ---\n",
    "b/r_win_by_Decision_Majority | Wins by Decision of the majority | Ratio\n",
    "b/r_win_by_Decision_Split | Wins by Decision Split | Ratio\n",
    "b/r_win_by_Decision_Unanimous | Wins by Decision Unanimous | Ratio\n",
    "b/r_win_by_KO/TKO | Wins by Knockout or technical Knockout | Ratio\n",
    "b/r_win_by_Submission | Wins by submission | Ratio\n",
    "b/r_win_by_TKO_Doctor_Stoppage | Wins due to doctor stopping the fight | Ratio\n",
    "b/r_wins | Total number of wins for the fighter | Ratio\n",
    "b/r_losses | Total number of losses for the fighter | Ratio\n",
    "b/r_draw | How many draws did the fighter have | Ratio\n",
    "b/r_current_lose_streak | How many fights did the fighter lose in a row since last win | Ratio\n",
    "b/r_current_win_streak | How many fights did the fighter win in a row since the last loss | Ratio\n",
    "b/r_longest_win_streak | How many fights did the fighter win in a row at his/her longest | Ratio\n",
    "b/r_total_rounds_fought | Number of rounds the fighter fought in total | Ratio\n",
    "b/r_total_time_fought(seconds) | Total fighting time in seconds | Ratio\n",
    "b/r_total_title_bouts | How many title bouts did the fighter have so far | Ratio\n",
    "\n",
    "#### Fighter infight moves stats \n",
    "Attribute | Description | Attribute type \n",
    "--- | --- | ---\n",
    "b/r_avg_BODY_att | Average body attacks attended (fighter level) | Ratio\n",
    "b/r_avg_BODY_landed | Average attacks landed (fighter level) | Ratio\n",
    "b/r_avg_HEAD_att | Average head attacks attended (fighter level) | Ratio\n",
    "b/r_avg_HEAD_landed | Average head attacks landed (fighter level) | Ratio\n",
    "b/r_avg_LEG_att |  Average leg attacks attended (fighter level) | Ratio\n",
    "b/r_avg_LEG_landed |  Average leg attacks landed (fighter level) | Ratio\n",
    "b/r_avg_CLINCH_att | Average clinches attended (fighter level) | Ratio\n",
    "b/r_avg_CLINCH_landed | Average clinches landed (fighter level) | Ratio\n",
    "b/r_avg_DISTANCE_att | Average distance strikes attended (fighter level) | Ratio\n",
    "b/r_avg_DISTANCE_landed | Average distance strikes landed (fighter level) | Ratio\n",
    "b/r_avg_GROUND_att | Average ground strikes attended (fighter level) | Ratio\n",
    "b/r_avg_GROUND_landed | Average ground strikes landed (fighter level) | Ratio\n",
    "b/r_avg_SIG_STR_att | Average significant strikes attended (fighter level) | Ratio\n",
    "b/r_avg_SIG_STR_landed | Average significant strikes landed (fighter level) | Ratio\n",
    "b/r_avg_SIG_STR_pct | | Ratio\n",
    "b/r_avg_TD_att | Average tackedowns (fighter level) | Ratio\n",
    "b/r_avg_TD_landed | Average tackedowns landed (fighter level) | Ratio\n",
    "b/r_avg_TD_pct | | Ratio\n",
    "b/r_avg_TOTAL_STR_att | Average total strikes attended (fighter level) | Ratio\n",
    "b/r_avg_TOTAL_STR_landed | Average total strikes landed (fighter level) | Ratio\n",
    "b/r_avg_KD | Average knockdowns (fighter level) | Ratio\n",
    "b/r_avg_PASS | Average passes (fighter level) | Ratio\n",
    "b/r_avg_REV | Average reversals (fighter level) | Ratio\n",
    "b/r_avg_SUB_ATT | Average submissions (fighter level) | Ratio\n",
    "\n",
    "#### Unkown attributes\n",
    "Attribute | Description | Attribute type \n",
    "--- | --- | ---\n",
    "b/r_avg_opp_BODY_att | Average body attacks attended (fighter level) | Ratio\n",
    "b/r_avg_opp_BODY_landed | Average attacks landed (fighter level) | Ratio\n",
    "b/r_avg_opp_HEAD_att | Average head attacks attended (fighter level) | Ratio\n",
    "b/r_avg_opp_HEAD_landed | Average head attacks landed (fighter level) | Ratio\n",
    "b/r_avg_opp_LEG_att |  Average leg attacks attended (fighter level) | Ratio\n",
    "b/r_avg_opp_LEG_landed |  Average leg attacks landed (fighter level) | Ratio\n",
    "b/r_avg_opp_CLINCH_att | Average clinches attended (fighter level) | Ratio\n",
    "b/r_avg_opp_CLINCH_landed | Average clinches landed (fighter level) | Ratio\n",
    "b/r_avg_opp_DISTANCE_att | Average distance strikes attended (fighter level) | Ratio\n",
    "b/r_avg_opp_DISTANCE_landed | Average distance strikes landed (fighter level) | Ratio\n",
    "b/r_avg_opp_GROUND_att | Average ground strikes attended (fighter level) | Ratio\n",
    "b/r_avg_opp_GROUND_landed | Average ground strikes landed (fighter level) | Ratio\n",
    "b/r_avg_opp_SIG_STR_att | Average significant strikes attended (fighter level) | Ratio\n",
    "b/r_avg_opp_SIG_STR_landed | Average significant strikes landed (fighter level) | Ratio\n",
    "b/r_avg_opp_SIG_STR_pct | | Ratio\n",
    "b/r_avg_opp_TD_att | Average tackedowns (fighter level) | Ratio\n",
    "b/r_avg_opp_TD_landed | Average tackedowns landed (fighter level) | Ratio\n",
    "b/r_avg_opp_TD_pct | | Ratio\n",
    "b/r_avg_opp_TOTAL_STR_att | Average total strikes attended (fighter level) | Ratio\n",
    "b/r_avg_opp_TOTAL_STR_landed | Average total strikes landed (fighter level) | Ratio\n",
    "b/r_avg_opp_KD | Average knockdowns (fighter level) | Ratio\n",
    "b/r_avg_opp_PASS | Average passes (fighter level) | Ratio\n",
    "b/r_avg_opp_REV | Average reversals (fighter level) | Ratio\n",
    "b/r_avg_opp_SUB_ATT | Average submissions (fighter level) | Ratio"
   ]
  },
  {
   "cell_type": "markdown",
   "metadata": {},
   "source": [
    "We clustered the attributes into five logical clusters. The first one, \"Bout stats\", gives away basic information about the bout itself ( e.g. when it took place, which weight class, who was the referee, ...).  Mostly nominal and ordinal attributes are grouped here. The second cluster is about basic fighter attributes of descriptive nature (height, weight, age, ...). The third cluster captures basic stats about the fighter. As already mentioned there are two fighter attributes for each fighter which differ only in the prefix. (R_ or B_). This cluster has also one aggregated attribute \"R/B_wins\" which is the sum of six other attributes referring to the way the fighter won (e.g. R_win_by_KO/TKO). It is a first sign of Colinearity. The forth cluster contains stats about the different moves and strikes the fighters did in their fights so far. It also contains aggregated attributes such as b/r_avg_opp_SIG_STR_att and b/r_avg_opp_SIG_STR_landed. Later two attributes aggregate \"HEAD, BODY, LEG\" as well as \"DISTANCE, GROUND, CLINCH\" strikes, attended and landed respectively."
   ]
  },
  {
   "cell_type": "code",
   "execution_count": 66,
   "metadata": {},
   "outputs": [
    {
     "data": {
      "text/plain": [
       "'Assertions passed. Check the assertions to learn more about the semantics of this data set.'"
      ]
     },
     "execution_count": 66,
     "metadata": {},
     "output_type": "execute_result"
    }
   ],
   "source": [
    "'''\n",
    "-Identify data and method of capture\n",
    "-Perform basic statistical analysis\n",
    "    “For each attribute compute the basic statistics”\n",
    "    - Average\n",
    "    - Min/max values\n",
    "    - Variance, standard deviation, mode, skewness, …\n",
    "    - Histogram: encoding issues (0, 99, -1, 1.1.1900, …)\n",
    "    - Correlation between attributes\n",
    "'''\n",
    "\n",
    "def load_ufc_data():\n",
    "    \n",
    "    path = Path(\"../data/data.csv\")\n",
    "    ufc_data = pd.read_csv(path, header=0, delimiter=\",\")\n",
    "    \n",
    "    return ufc_data\n",
    "\n",
    "data_ufc = load_ufc_data()\n",
    "\n",
    "def semantics_check():\n",
    "    data_ufc_check = data_ufc.copy()\n",
    "    data_ufc_check.dropna(inplace=True)\n",
    "    \n",
    "    # Current win streak must be smaller or equal than wins\n",
    "    assert np.less_equal(data_ufc_check['R_current_win_streak'].values, \n",
    "                               data_ufc_check['R_wins'].values).all()\n",
    "    \n",
    "    # Current lose streak must be smaller or equal than total losses\n",
    "    assert np.less_equal(data_ufc_check['R_current_lose_streak'].values, \n",
    "                               data_ufc_check['R_losses'].values).all()\n",
    "    \n",
    "    # Wins must be the sum of all sub win characteristics\n",
    "    # Is not always the case, that is why the condition is weaker here. Maybe data quality issue\n",
    "    np.less_equal(data_ufc_check.loc[:,'R_wins'],\n",
    "                        data_ufc_check.loc[:,['R_win_by_Decision_Majority',\n",
    "                                              'R_win_by_Decision_Split',\n",
    "                                              'R_win_by_Decision_Unanimous',\n",
    "                                              'R_win_by_KO/TKO',\n",
    "                                              'R_win_by_Submission',\n",
    "                                              'R_win_by_TKO_Doctor_Stoppage']].sum(axis=1)).all()\n",
    "                       \n",
    "    \n",
    "       \n",
    "    # Signficant strikes must equal the sum of each categorized strike group's characteristics  \n",
    "    assert np.allclose(data_ufc_check.loc[:,'R_avg_SIG_STR_att'],\n",
    "                data_ufc_check.loc[:,['R_avg_CLINCH_att','R_avg_DISTANCE_att',\n",
    "                                      'R_avg_GROUND_att']].sum(axis=1), \n",
    "                rtol=0.00001)\n",
    "    assert np.allclose(data_ufc_check.loc[:,'R_avg_SIG_STR_att'],\n",
    "                data_ufc_check.loc[:,['R_avg_BODY_att','R_avg_HEAD_att','R_avg_LEG_att']].sum(axis=1), \n",
    "                rtol=0.00001)\n",
    "    assert np.allclose(data_ufc_check.loc[:,['R_avg_CLINCH_att','R_avg_DISTANCE_att',\n",
    "                                             'R_avg_GROUND_att']].sum(axis=1),\n",
    "                data_ufc_check.loc[:,['R_avg_BODY_att','R_avg_HEAD_att','R_avg_LEG_att']].sum(axis=1), \n",
    "                rtol=0.00001)\n",
    "    \n",
    "    # Strikes based on body sections and positions/ranges. \n",
    "    # There must be more or euqal attended strikes than landed\n",
    "    assert np.greater_equal(data_ufc_check.loc[:,'R_avg_HEAD_att'].values,\n",
    "                   data_ufc_check.loc[:,'R_avg_HEAD_landed'].values).all()\n",
    "    assert np.greater_equal(data_ufc_check.loc[:,'R_avg_BODY_att'].values,\n",
    "                   data_ufc_check.loc[:,'R_avg_BODY_landed'].values).all()\n",
    "    assert np.greater_equal(data_ufc_check.loc[:,'R_avg_LEG_att'].values,\n",
    "                   data_ufc_check.loc[:,'R_avg_LEG_landed'].values).all()\n",
    "    assert np.greater_equal(data_ufc_check.loc[:,'R_avg_CLINCH_att'].values,\n",
    "                   data_ufc_check.loc[:,'R_avg_CLINCH_landed'].values).all()\n",
    "    assert np.greater_equal(data_ufc_check.loc[:,'R_avg_DISTANCE_att'].values,\n",
    "                   data_ufc_check.loc[:,'R_avg_DISTANCE_landed'].values).all()\n",
    "    assert np.greater_equal(data_ufc_check.loc[:,'R_avg_GROUND_att'].values,\n",
    "                   data_ufc_check.loc[:,'R_avg_GROUND_landed'].values).all()\n",
    "    \n",
    "    # Takedowns, significant strikes, total strikes\n",
    "    # There must be more or euqal attended strikes/moves than landed\n",
    "    assert np.greater_equal(data_ufc_check.loc[:,'R_avg_SIG_STR_att'].values,\n",
    "                   data_ufc_check.loc[:,'R_avg_SIG_STR_landed'].values).all()  \n",
    "    assert np.greater_equal(data_ufc_check.loc[:,'R_avg_TD_att'].values,\n",
    "                   data_ufc_check.loc[:,'R_avg_TD_landed'].values).all()\n",
    "    assert np.greater_equal(data_ufc_check.loc[:,'R_avg_TOTAL_STR_att'].values,\n",
    "                   data_ufc_check.loc[:,'R_avg_TOTAL_STR_landed'].values).all()\n",
    "    return \"Assertions passed. Check the assertions to learn more about the semantics of this data set.\"\n",
    "semantics_check()\n"
   ]
  },
  {
   "cell_type": "markdown",
   "metadata": {},
   "source": [
    "The sum of all sub win characteristics does not always equal the total wins (R/B_wins). Only the condition \"sum sub win characteristics <= wins\" is fullfilled. All other semantics are valid."
   ]
  },
  {
   "cell_type": "code",
   "execution_count": 70,
   "metadata": {},
   "outputs": [
    {
     "name": "stdout",
     "output_type": "stream",
     "text": [
      "R_age\n",
      "Ks_2sampResult(statistic=0.04143088116410671, pvalue=0.0004090161094990995)\n",
      "R_Height_cms\n",
      "Ks_2sampResult(statistic=0.022598870056497175, pvalue=0.14534096969736768)\n",
      "R_Weight_lbs\n",
      "Ks_2sampResult(statistic=0.009735202492211837, pvalue=0.9680739977284712)\n",
      "R_Reach_cms\n",
      "Ks_2sampResult(statistic=0.01589825119236884, pvalue=0.6340491472005213)\n",
      "R_avg_SIG_STR_att\n",
      "Ks_2sampResult(statistic=0.052083333333333336, pvalue=0.00010045436767024714)\n",
      "R_avg_SIG_STR_landed\n",
      "Ks_2sampResult(statistic=0.06524122807017543, pvalue=3.578447750666425e-07)\n",
      "R_avg_TD_att\n",
      "Ks_2sampResult(statistic=0.05345394736842105, pvalue=5.9240119080182335e-05)\n",
      "R_avg_TD_landed\n",
      "Ks_2sampResult(statistic=0.0712719298245614, pvalue=1.768182045708713e-08)\n",
      "R_avg_KD\n",
      "Ks_2sampResult(statistic=0.0912828947368421, pvalue=1.2109158905059224e-13)\n",
      "R_wins\n",
      "Ks_2sampResult(statistic=0.15493779160186624, pvalue=2.8881187846506676e-54)\n",
      "R_losses\n",
      "Ks_2sampResult(statistic=0.11450233281493001, pvalue=8.910912267326086e-30)\n",
      "R_total_time_fought(seconds)\n",
      "Ks_2sampResult(statistic=0.041666666666666664, pvalue=0.003548780472916277)\n"
     ]
    }
   ],
   "source": [
    "# Checking whether R and B are from the same distribution\n",
    "r_attributes = ['R_age','R_Height_cms', 'R_Weight_lbs', 'R_Reach_cms',\n",
    "                'R_avg_SIG_STR_att', 'R_avg_SIG_STR_landed', 'R_avg_TD_att',\n",
    "                'R_avg_TD_landed', 'R_avg_KD', 'R_wins', 'R_losses',\n",
    "                'R_total_time_fought(seconds)']\n",
    "b_attributes = ['B_age', 'B_Height_cms', 'B_Weight_lbs', 'B_Reach_cms',\n",
    "                'B_avg_SIG_STR_att', 'B_avg_SIG_STR_landed', 'B_avg_TD_att',\n",
    "                'B_avg_TD_landed', 'B_avg_KD', 'B_wins', 'B_losses',\n",
    "                'B_total_time_fought(seconds)']\n",
    "for i in range(len(r_attributes)):\n",
    "    print(r_attributes[i])\n",
    "    data = data_ufc.loc[:,[r_attributes[i], b_attributes[i]]].dropna()\n",
    "    x = data[b_attributes[i]].sort_values()\n",
    "    y = data[r_attributes[i]].sort_values()\n",
    "    print(ks_2samp(x,y))\n"
   ]
  },
  {
   "cell_type": "markdown",
   "metadata": {},
   "source": [
    "Interestingly, a lot of R and B attribute pairs do not come from the same distribution as indicated by small p-values. It seems that there are e.g. totally different distributions in age. This we need to re-check again with a histogram at a later step."
   ]
  },
  {
   "cell_type": "code",
   "execution_count": 72,
   "metadata": {},
   "outputs": [
    {
     "name": "stdout",
     "output_type": "stream",
     "text": [
      "Basic fighter stats\n",
      "             R_age        B_age  R_Height_cms  R_Weight_lbs  R_Reach_cms\n",
      "count  5080.000000  4972.000000   5140.000000   5141.000000  4828.000000\n",
      "mean     29.442323    29.171963    179.274089    172.075861   183.664412\n",
      "std       4.141927     4.078538      8.638978     35.164075    10.304375\n",
      "min      19.000000    18.000000    152.400000    115.000000   152.400000\n",
      "25%      26.000000    26.000000    172.720000    145.000000   177.800000\n",
      "50%      29.000000    29.000000    180.340000    170.000000   182.880000\n",
      "75%      32.000000    32.000000    185.420000    185.000000   190.500000\n",
      "max      47.000000    51.000000    210.820000    345.000000   213.360000\n",
      "Bout stats\n",
      "       no_of_rounds\n",
      "count   5144.000000\n",
      "mean       3.119362\n",
      "std        0.631457\n",
      "min        1.000000\n",
      "25%        3.000000\n",
      "50%        3.000000\n",
      "75%        3.000000\n",
      "max        5.000000\n",
      "Fighter bout stats\n",
      "       R_win_by_Decision_Majority  R_win_by_Decision_Split  \\\n",
      "count                 5144.000000              5144.000000   \n",
      "mean                     0.027605                 0.280910   \n",
      "std                      0.166210                 0.599936   \n",
      "min                      0.000000                 0.000000   \n",
      "25%                      0.000000                 0.000000   \n",
      "50%                      0.000000                 0.000000   \n",
      "75%                      0.000000                 0.000000   \n",
      "max                      2.000000                 5.000000   \n",
      "\n",
      "       R_win_by_Decision_Unanimous  R_win_by_KO/TKO  R_win_by_Submission  \\\n",
      "count                  5144.000000      5144.000000          5144.000000   \n",
      "mean                      1.177294         1.254860             0.777605   \n",
      "std                       1.600135         1.801056             1.326056   \n",
      "min                       0.000000         0.000000             0.000000   \n",
      "25%                       0.000000         0.000000             0.000000   \n",
      "50%                       1.000000         1.000000             0.000000   \n",
      "75%                       2.000000         2.000000             1.000000   \n",
      "max                      10.000000        11.000000            13.000000   \n",
      "\n",
      "       R_win_by_TKO_Doctor_Stoppage       R_wins     R_losses  R_draw  \\\n",
      "count                   5144.000000  5144.000000  5144.000000  5144.0   \n",
      "mean                       0.071345     3.598173     1.951400     0.0   \n",
      "std                        0.277771     3.709519     2.118218     0.0   \n",
      "min                        0.000000     0.000000     0.000000     0.0   \n",
      "25%                        0.000000     1.000000     0.000000     0.0   \n",
      "50%                        0.000000     2.000000     1.000000     0.0   \n",
      "75%                        0.000000     5.000000     3.000000     0.0   \n",
      "max                        2.000000    20.000000    14.000000     0.0   \n",
      "\n",
      "       R_current_lose_streak  R_current_win_streak  R_longest_win_streak  \\\n",
      "count            5144.000000           5144.000000           5144.000000   \n",
      "mean                0.550933              1.000389              2.254082   \n",
      "std                 0.816019              1.579447              2.062174   \n",
      "min                 0.000000              0.000000              0.000000   \n",
      "25%                 0.000000              0.000000              1.000000   \n",
      "50%                 0.000000              0.000000              2.000000   \n",
      "75%                 1.000000              1.000000              3.000000   \n",
      "max                 7.000000             16.000000             16.000000   \n",
      "\n",
      "       R_total_rounds_fought  R_total_time_fought(seconds)  \\\n",
      "count            5144.000000                   4494.000000   \n",
      "mean               12.853421                    603.782645   \n",
      "std                13.369351                    227.777634   \n",
      "min                 0.000000                      7.000000   \n",
      "25%                 3.000000                    470.625000   \n",
      "50%                 9.000000                    620.333333   \n",
      "75%                19.000000                    762.300000   \n",
      "max                80.000000                   1500.000000   \n",
      "\n",
      "       R_total_title_bouts  \n",
      "count          5144.000000  \n",
      "mean              0.597006  \n",
      "std               1.576711  \n",
      "min               0.000000  \n",
      "25%               0.000000  \n",
      "50%               0.000000  \n",
      "75%               1.000000  \n",
      "max              16.000000  \n",
      "Fighter infight moves stats\n",
      "       R_avg_BODY_att  R_avg_BODY_landed  R_avg_HEAD_att  R_avg_HEAD_landed  \\\n",
      "count     4494.000000        4494.000000     4494.000000        4494.000000   \n",
      "mean         8.810613           6.137742       56.172935          20.266359   \n",
      "std          6.858203           4.800265       33.952758          12.035055   \n",
      "min          0.000000           0.000000        0.000000           0.000000   \n",
      "25%          4.000000           2.800000       32.666667          12.166667   \n",
      "50%          7.296703           5.000000       50.029412          18.447222   \n",
      "75%         12.000000           8.500000       75.000000          26.333333   \n",
      "max         51.000000          39.000000      264.000000         119.000000   \n",
      "\n",
      "       R_avg_LEG_att  R_avg_LEG_landed  R_avg_CLINCH_att  R_avg_CLINCH_landed  \\\n",
      "count    4494.000000       4494.000000       4494.000000          4494.000000   \n",
      "mean        6.329334          4.997399          8.173583             5.525300   \n",
      "std         5.893866          4.580976          7.113069             5.114635   \n",
      "min         0.000000          0.000000          0.000000             0.000000   \n",
      "25%         2.000000          1.666667          3.400000             2.000000   \n",
      "50%         4.785714          3.904545          6.545455             4.333333   \n",
      "75%         8.990000          7.000000         11.000000             7.444444   \n",
      "max        63.000000         44.000000         82.000000            52.000000   \n",
      "\n",
      "       R_avg_DISTANCE_att  R_avg_DISTANCE_landed  R_avg_GROUND_att  \\\n",
      "count         4494.000000            4494.000000       4494.000000   \n",
      "mean            53.582091              19.551445          9.557208   \n",
      "std             39.550361              15.071675          9.027138   \n",
      "min              0.000000               0.000000          0.000000   \n",
      "25%             24.142857               8.436813          3.333333   \n",
      "50%             46.000000              16.000000          7.438889   \n",
      "75%             74.475000              27.851190         13.000000   \n",
      "max            287.500000             131.000000         96.000000   \n",
      "\n",
      "       R_avg_GROUND_landed  R_avg_SIG_STR_att  R_avg_SIG_STR_landed  \\\n",
      "count          4494.000000        4494.000000           4494.000000   \n",
      "mean              6.324754          71.312882             31.401499   \n",
      "std               5.971245          41.633287             17.495162   \n",
      "min               0.000000           0.000000              0.000000   \n",
      "25%               2.145604          42.525000             19.500000   \n",
      "50%               5.000000          64.178947             28.713636   \n",
      "75%               8.587010          95.250000             41.500000   \n",
      "max              62.000000         298.500000            141.000000   \n",
      "\n",
      "       R_avg_SIG_STR_pct  R_avg_TD_att  R_avg_TD_landed  R_avg_TD_pct  \\\n",
      "count        4494.000000   4494.000000      4494.000000   4494.000000   \n",
      "mean            0.463773      3.026806         1.304724      0.333623   \n",
      "std             0.121866      2.796737         1.240269      0.241264   \n",
      "min             0.000000      0.000000         0.000000      0.000000   \n",
      "25%             0.393333      1.000000         0.375000      0.165000   \n",
      "50%             0.457000      2.333333         1.000000      0.322111   \n",
      "75%             0.530000      4.333333         2.000000      0.490000   \n",
      "max             1.000000     30.000000        11.000000      1.000000   \n",
      "\n",
      "       R_avg_TOTAL_STR_att  R_avg_TOTAL_STR_landed     R_avg_KD   R_avg_PASS  \\\n",
      "count          4494.000000             4494.000000  4494.000000  4494.000000   \n",
      "mean             93.843077               51.523843     0.257743     1.413585   \n",
      "std              47.398572               26.826678     0.329755     1.457134   \n",
      "min               0.000000                0.000000     0.000000     0.000000   \n",
      "25%              61.156250               33.606250     0.000000     0.333333   \n",
      "50%              89.794737               48.522727     0.166667     1.000000   \n",
      "75%             121.000000               65.400000     0.400000     2.000000   \n",
      "max             325.500000              202.500000     4.000000    14.000000   \n",
      "\n",
      "         R_avg_REV  R_avg_SUB_ATT  \n",
      "count  4494.000000    4494.000000  \n",
      "mean      0.153263       0.543083  \n",
      "std       0.280728       0.652865  \n",
      "min       0.000000       0.000000  \n",
      "25%       0.000000       0.000000  \n",
      "50%       0.000000       0.375000  \n",
      "75%       0.213346       0.845142  \n",
      "max       3.000000       9.000000  \n"
     ]
    }
   ],
   "source": [
    "def basic_statistics(data):\n",
    "    print(data.describe())\n",
    "    \n",
    "# Dataframes of clustered attributes in \"Data understanding\"\n",
    "data_ufc_basic_fighter_stats = data_ufc.loc[:,['R_age', 'B_age', 'R_Height_cms', 'R_Weight_lbs', 'R_Reach_cms']]\n",
    "data_ufc_basic_bout_stats = data_ufc.loc[:,['no_of_rounds']]\n",
    "data_ufc_fighter_bout_stats = data_ufc.loc[:,['R_win_by_Decision_Majority',\n",
    "                                              'R_win_by_Decision_Split',\n",
    "                                              'R_win_by_Decision_Unanimous',\n",
    "                                              'R_win_by_KO/TKO',\n",
    "                                              'R_win_by_Submission',\n",
    "                                              'R_win_by_TKO_Doctor_Stoppage',\n",
    "                                              'R_wins',\n",
    "                                              'R_losses',\n",
    "                                              'R_draw',\n",
    "                                              'R_current_lose_streak',\n",
    "                                              'R_current_win_streak',\n",
    "                                              'R_longest_win_streak',\n",
    "                                              'R_total_rounds_fought',\n",
    "                                              'R_total_time_fought(seconds)',\n",
    "                                              'R_total_title_bouts']]\n",
    "\n",
    "data_ufc_fighter_infight_moves_stats = data_ufc.loc[:, ['R_avg_BODY_att',\n",
    "                                                        'R_avg_BODY_landed',\n",
    "                                                        'R_avg_HEAD_att',\n",
    "                                                        'R_avg_HEAD_landed',\n",
    "                                                        'R_avg_LEG_att',\n",
    "                                                        'R_avg_LEG_landed',\n",
    "                                                        'R_avg_CLINCH_att',\n",
    "                                                        'R_avg_CLINCH_landed',\n",
    "                                                        'R_avg_DISTANCE_att',\n",
    "                                                        'R_avg_DISTANCE_landed',\n",
    "                                                        'R_avg_GROUND_att',\n",
    "                                                        'R_avg_GROUND_landed',\n",
    "                                                        'R_avg_SIG_STR_att',\n",
    "                                                        'R_avg_SIG_STR_landed',\n",
    "                                                        'R_avg_SIG_STR_pct',\n",
    "                                                        'R_avg_TD_att',\n",
    "                                                        'R_avg_TD_landed',\n",
    "                                                        'R_avg_TD_pct',\n",
    "                                                        'R_avg_TOTAL_STR_att',\n",
    "                                                        'R_avg_TOTAL_STR_landed',\n",
    "                                                        'R_avg_KD',\n",
    "                                                        'R_avg_PASS',\n",
    "                                                        'R_avg_REV',\n",
    "                                                        'R_avg_SUB_ATT']]\n",
    "\n",
    "pd.set_option(\"display.max_columns\", None)\n",
    "print(\"Basic fighter stats\")\n",
    "basic_statistics(data_ufc_basic_fighter_stats)\n",
    "\n",
    "print(\"Bout stats\")\n",
    "basic_statistics(data_ufc_basic_bout_stats)\n",
    "\n",
    "print(\"Fighter bout stats\")\n",
    "basic_statistics(data_ufc_fighter_bout_stats)\n",
    "\n",
    "print(\"Fighter infight moves stats\")\n",
    "basic_statistics(data_ufc_fighter_infight_moves_stats)"
   ]
  },
  {
   "cell_type": "code",
   "execution_count": 83,
   "metadata": {},
   "outputs": [
    {
     "name": "stdout",
     "output_type": "stream",
     "text": [
      "<class 'pandas.core.frame.DataFrame'>\n",
      "RangeIndex: 5144 entries, 0 to 5143\n",
      "Columns: 145 entries, R_fighter to R_age\n",
      "dtypes: bool(1), float64(134), int64(1), object(9)\n",
      "memory usage: 5.7+ MB\n"
     ]
    },
    {
     "data": {
      "image/png": "[encoded data removed]",
      "text/plain": [
       "<Figure size 432x288 with 1 Axes>"
      ]
     },
     "metadata": {
      "needs_background": "light"
     },
     "output_type": "display_data"
    }
   ],
   "source": [
    "data_ufc.info()\n",
    "#sns.heatmap(data_ufc.isnull(), cbar=False)\n",
    "fig, ax = plt.subplots()\n",
    "plt.imshow(data_ufc_basic_fighter_stats)\n",
    "plt.show()\n",
    "\n",
    "    "
   ]
  },
  {
   "cell_type": "markdown",
   "metadata": {},
   "source": [
    "Wins and loses from the red and blue fighter do not come from the same distribution."
   ]
  },
  {
   "cell_type": "markdown",
   "metadata": {},
   "source": [
    "### Data exploration"
   ]
  },
  {
   "cell_type": "code",
   "execution_count": 75,
   "metadata": {},
   "outputs": [
    {
     "data": {
      "image/png": "[encoded data removed]",
      "text/plain": [
       "<Figure size 1080x720 with 12 Axes>"
      ]
     },
     "metadata": {
      "needs_background": "light"
     },
     "output_type": "display_data"
    },
    {
     "data": {
      "image/png": "[encoded data removed]",
      "text/plain": [
       "<Figure size 1080x720 with 12 Axes>"
      ]
     },
     "metadata": {
      "needs_background": "light"
     },
     "output_type": "display_data"
    }
   ],
   "source": [
    "# Visual exploration\n",
    "# Plot basic statistics\n",
    "# Identify interesting subpopulations\n",
    "## E.g. only male fighters and only 4-5 most popular weight classes\n",
    "# Form hypotheses and identify actions\n",
    "## E.g. which attributes do contribute significantly to the weight class\n",
    "# Transform the hypothesis into a data mining goal, if possible\n",
    "data_ufc_women = data_ufc[data_ufc['weight_class'].isin([\"Women's Flyweight\",\n",
    "                                                         \"Women's Strawweight\",\n",
    "                                                         \"Women's Bantamweight\",\n",
    "                                                         \"Women's Featherweight\"])]\n",
    "data_ufc_men = data_ufc[~data_ufc.isin(data_ufc_women)]\n",
    "\n",
    "# Focus on mens' weight classes\n",
    "data_ufc_men.boxplot(column = ['R_age', 'R_Height_cms', 'R_Weight_lbs', 'R_Reach_cms',\n",
    "                            'R_avg_SIG_STR_att', 'R_avg_SIG_STR_landed', 'R_avg_TD_att',\n",
    "                            'R_avg_TD_landed', 'R_avg_KD', 'R_wins', 'R_losses',\n",
    "                            'R_total_time_fought(seconds)'],\n",
    "                 by='weight_class',\n",
    "                 figsize=(15,10),\n",
    "                 rot = 90)\n",
    "\n",
    "data_ufc_men.hist(column = ['R_age','R_Height_cms', 'R_Weight_lbs', 'R_Reach_cms',\n",
    "                            'R_avg_SIG_STR_att', 'R_avg_SIG_STR_landed', 'R_avg_TD_att',\n",
    "                            'R_avg_TD_landed', 'R_avg_KD', 'R_wins', 'R_losses',\n",
    "                            'R_total_time_fought(seconds)'],\n",
    "                  figsize=(15,10),\n",
    "                  bins=20)\n",
    "plt.show()\n"
   ]
  },
  {
   "cell_type": "code",
   "execution_count": null,
   "metadata": {},
   "outputs": [],
   "source": []
  },
  {
   "cell_type": "markdown",
   "metadata": {},
   "source": [
    "### Data quality"
   ]
  },
  {
   "cell_type": "code",
   "execution_count": 74,
   "metadata": {},
   "outputs": [],
   "source": [
    "# Identify special values and catalog their meaning\n",
    "# Find missing values and outliers.\n",
    "# Check for deviations, decide whether it is “noise” or may indicate an interesting phenomenon.\n",
    "# Check for plausability of values\n",
    "# Verify that the meanings of attributes and contained values fit\n",
    "# Establish the meaning of missing data ! Why is it missing?\n",
    "# Review any attributes that give answers that conflict with common sense\n"
   ]
  },
  {
   "cell_type": "markdown",
   "metadata": {},
   "source": [
    "## Data preparation "
   ]
  },
  {
   "cell_type": "markdown",
   "metadata": {},
   "source": [
    "### Select data"
   ]
  },
  {
   "cell_type": "markdown",
   "metadata": {},
   "source": [
    "Subsampling: If the entire dataset is too large to be processed in its entirety, choose a subsampling strategy to get the dataset to a manageable size. Describe in your report why and how you did it. Make sure your experiment is repeatable. (No manual selection of instances, everything must be in code.)"
   ]
  },
  {
   "cell_type": "code",
   "execution_count": null,
   "metadata": {},
   "outputs": [],
   "source": []
  },
  {
   "cell_type": "markdown",
   "metadata": {},
   "source": [
    "### Clean data"
   ]
  },
  {
   "cell_type": "code",
   "execution_count": null,
   "metadata": {},
   "outputs": [],
   "source": [
    "# Handle missing values and outliers\n",
    "# eg. by deletion or imputation"
   ]
  },
  {
   "cell_type": "markdown",
   "metadata": {},
   "source": [
    "### Construct data"
   ]
  },
  {
   "cell_type": "markdown",
   "metadata": {},
   "source": [
    "Preprocessing: Get the data into the form needed for training your two algorithms. Describe your preprocessing steps (e.g. transcoding, scaling), why you did it and how you did it"
   ]
  },
  {
   "cell_type": "code",
   "execution_count": null,
   "metadata": {},
   "outputs": [],
   "source": [
    "# Transform to different attribute types (Binning, 1-to-n coding, …)\n",
    "# Add new attributes to the accessed data\n",
    "# Decide if any attribute should be normalized\n",
    "# "
   ]
  },
  {
   "cell_type": "code",
   "execution_count": null,
   "metadata": {},
   "outputs": [],
   "source": [
    "MY ANSWER HERE"
   ]
  },
  {
   "cell_type": "markdown",
   "metadata": {},
   "source": [
    "## Modeling "
   ]
  },
  {
   "cell_type": "markdown",
   "metadata": {},
   "source": [
    "Pick two significantly different classification algorithms, i.e. NO two variations of the same algorithm.\n",
    "* SVM and Random Forest\n",
    "* Class attribute: weight_class"
   ]
  },
  {
   "cell_type": "markdown",
   "metadata": {},
   "source": [
    "### Modeling technique"
   ]
  },
  {
   "cell_type": "markdown",
   "metadata": {},
   "source": [
    "Describe why you chose the respective algorithms and briefly summarize their characteristics and the semantics underlying its parameters."
   ]
  },
  {
   "cell_type": "markdown",
   "metadata": {},
   "source": [
    "MY ANSWER HERE"
   ]
  },
  {
   "cell_type": "markdown",
   "metadata": {},
   "source": [
    "### Test desgin"
   ]
  },
  {
   "cell_type": "markdown",
   "metadata": {},
   "source": [
    "The model will be tested using an incrementally varying train/test split approach. We will start with a split of 5%/95% (train/test) and increment the split ratio by 10% until 95%/5% is reached.\n",
    "For each training set size we will perform multiple runs to observe the sensitivity to the actual subset used for training a specific run."
   ]
  },
  {
   "cell_type": "code",
   "execution_count": null,
   "metadata": {},
   "outputs": [],
   "source": [
    "# Scaling\n",
    "# Paramters\n",
    "## Explore paramters with Grid Search and cross validation\n",
    "# Training and test"
   ]
  },
  {
   "cell_type": "markdown",
   "metadata": {},
   "source": [
    "### Build Model"
   ]
  },
  {
   "cell_type": "markdown",
   "metadata": {},
   "source": [
    "Train your two algorithms in 3 separate experiment tracks as detailed below and evaluate your results with a reasonable quality measure for your algorithms (e.g.: (micro/macro) Precision/Recall, Mean Absolute Error,…). Interpret your results using both graphs and summaries (e.g. confusion matrices). For each of the 3 experiment tracks you should separately vary and document:\n",
    "* Parameters: If the classifier has specific parameters, explore their effect with different settings using 10-fold cross-validation and document the parameters and the results and analyze the sensitivity of classification outcomes against these parameters. Specifically, test extreme/obviously wrong settings and analyze the results\n",
    "* Scaling: where possible, try different scaling approaches (min/max, zero mean/unit variance, length) using the best parameters identified above and observe the difference in classification performance using 10-fold cross-validation. Analyze the reasons for the effects observed, test useful and also non-useful (!) scalings and summarize your findings as well as analyze reasons why specific scalings make sense in a given setting.\n",
    "* Training / test set splits: Use the best parameter setting and scaling identified above and evaluate the effect of different training and test set splits. Start with a small training set and increase it in small increments (e.g. 10 sets from 5% / 95% (train/test) in 10%-increments to 95%/5% (train/test)) and observe performance changes. Perform multiple runs with each training set size to observe the sensitivity to the actual subset used for training a specific run. Analyze the variance in performance obtained"
   ]
  },
  {
   "cell_type": "code",
   "execution_count": null,
   "metadata": {},
   "outputs": [],
   "source": []
  },
  {
   "cell_type": "markdown",
   "metadata": {},
   "source": [
    "### Asses Model"
   ]
  },
  {
   "cell_type": "markdown",
   "metadata": {},
   "source": [
    "## Summary"
   ]
  },
  {
   "cell_type": "markdown",
   "metadata": {},
   "source": [
    "* What trends do you observe in each set of experiments?\n",
    "* How easy was it to interpret the algorithm and its performance?\n",
    "* Which classes are most frequently mixed-up? (and why?)\n",
    "* What parameter settings cause performance changes?\n",
    "* Do both algorithms show the same behavior in performance, performance degradation / robustness against\n",
    "  * smaller and larger training set sizes?\n",
    "  * variations in parameter settings?\n",
    "* Did you observe or can you force and document characteristics such as over-learning?\n",
    "* How does the performance change with different amounts of training data being available? What are the best scalings (per attribute / per vector) and why?\n",
    "\n"
   ]
  },
  {
   "cell_type": "markdown",
   "metadata": {},
   "source": [
    "MY ANSWER HERE"
   ]
  }
 ],
 "metadata": {
  "kernelspec": {
   "display_name": "Python 3",
   "language": "python",
   "name": "python3"
  },
  "language_info": {
   "codemirror_mode": {
    "name": "ipython",
    "version": 3
   },
   "file_extension": ".py",
   "mimetype": "text/x-python",
   "name": "python",
   "nbconvert_exporter": "python",
   "pygments_lexer": "ipython3",
   "version": "3.7.4"
  }
 },
 "nbformat": 4,
 "nbformat_minor": 2
}
